{
  "nbformat": 4,
  "nbformat_minor": 0,
  "metadata": {
    "colab": {
      "name": "link_preview.ipynb",
      "provenance": [],
      "authorship_tag": "ABX9TyNVC7GFrMmn0qPB5Fo2uxFB",
      "include_colab_link": true
    },
    "kernelspec": {
      "name": "python3",
      "display_name": "Python 3"
    }
  },
  "cells": [
    {
      "cell_type": "markdown",
      "metadata": {
        "id": "view-in-github",
        "colab_type": "text"
      },
      "source": [
        "<a href=\"https://colab.research.google.com/github/Gulshan-raaz/link_preview_py2web/blob/master/link_preview.ipynb\" target=\"_parent\"><img src=\"https://colab.research.google.com/assets/colab-badge.svg\" alt=\"Open In Colab\"/></a>"
      ]
    },
    {
      "cell_type": "code",
      "metadata": {
        "id": "UNOeWVSMxFsn",
        "colab_type": "code",
        "colab": {}
      },
      "source": [
        "!pip3 install link_preview\n",
        "!pip3 install request"
      ],
      "execution_count": 0,
      "outputs": []
    },
    {
      "cell_type": "code",
      "metadata": {
        "id": "_6sN4QEVw9L-",
        "colab_type": "code",
        "colab": {}
      },
      "source": [
        "import request\n",
        "from link_preview import link_preview"
      ],
      "execution_count": 0,
      "outputs": []
    },
    {
      "cell_type": "code",
      "metadata": {
        "id": "B-vvbIt7xR-G",
        "colab_type": "code",
        "colab": {
          "base_uri": "https://localhost:8080/",
          "height": 51
        },
        "outputId": "1b04d258-0b3a-4782-eb26-f7f5ed9e02f6"
      },
      "source": [
        "url=input(\"Type Url For Finding Link Preview \\n\")"
      ],
      "execution_count": 19,
      "outputs": [
        {
          "output_type": "stream",
          "text": [
            "Type Url For Finding Link Preview \n",
            "https://github.com/Gulshan-raaz\n"
          ],
          "name": "stdout"
        }
      ]
    },
    {
      "cell_type": "code",
      "metadata": {
        "id": "3A1IFCb1xdcv",
        "colab_type": "code",
        "colab": {}
      },
      "source": [
        "result = link_preview.generate_dict(url)"
      ],
      "execution_count": 0,
      "outputs": []
    },
    {
      "cell_type": "code",
      "metadata": {
        "id": "PZoAn1ixxiWp",
        "colab_type": "code",
        "colab": {}
      },
      "source": [
        "thumb = result['image']\n",
        "title = result['title']\n",
        "desc = result['description']"
      ],
      "execution_count": 0,
      "outputs": []
    },
    {
      "cell_type": "code",
      "metadata": {
        "id": "dNjz9HhVxuG7",
        "colab_type": "code",
        "colab": {
          "base_uri": "https://localhost:8080/",
          "height": 136
        },
        "outputId": "365c3761-d75c-4900-9915-f10d2cc74bbe"
      },
      "source": [
        "print(thumb)\n",
        "print(\"\\n\")\n",
        "print(title)\n",
        "print(\"\\n\")\n",
        "print(desc)"
      ],
      "execution_count": 22,
      "outputs": [
        {
          "output_type": "stream",
          "text": [
            "https://avatars0.githubusercontent.com/u/25592139?s=400&amp;u=1ebc11bec00661975a36ca1fd274182872f86ff2&amp;v=4\n",
            "\n",
            "\n",
            "Gulshan-raaz - Overview\n",
            "\n",
            "\n",
            "Talk is Cheap Show Me the code. Gulshan-raaz has 15 repositories available. Follow their code on GitHub.\n"
          ],
          "name": "stdout"
        }
      ]
    }
  ]
}